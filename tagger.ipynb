{
 "cells": [
  {
   "cell_type": "code",
   "execution_count": 1,
   "metadata": {},
   "outputs": [
    {
     "name": "stderr",
     "output_type": "stream",
     "text": [
      "d:\\Python\\Python310\\lib\\site-packages\\tqdm\\auto.py:21: TqdmWarning: IProgress not found. Please update jupyter and ipywidgets. See https://ipywidgets.readthedocs.io/en/stable/user_install.html\n",
      "  from .autonotebook import tqdm as notebook_tqdm\n"
     ]
    }
   ],
   "source": [
    "import json\n",
    "from PIL import Image\n",
    "from src.interrogator import WaifuDiffusionInterrogator\n",
    "\n",
    "def load_json(fn):\n",
    "    with open(fn,\"r\") as f:\n",
    "        return json.load(f)\n",
    "    \n",
    "tagger_dict = load_json(\"wd.json\")\n",
    "default_tagger = \"wd14-vit-v2\"\n",
    "\n",
    "tagger = WaifuDiffusionInterrogator(default_tagger,repo_id=tagger_dict[default_tagger][\"repo_id\"])"
   ]
  },
  {
   "cell_type": "code",
   "execution_count": 2,
   "metadata": {},
   "outputs": [
    {
     "name": "stdout",
     "output_type": "stream",
     "text": [
      "Loading wd14-vit-v2 model file from SmilingWolf/wd-v1-4-vit-tagger-v2\n",
      "Loaded wd14-vit-v2 model from C:\\Users\\MiNix\\.cache\\huggingface\\hub\\models--SmilingWolf--wd-v1-4-vit-tagger-v2\\snapshots\\1f3f3e8ae769634e31e1ef696df11ec37493e4f2\\model.onnx\n",
      "{'1girl': 0.9867700934410095, 'solo': 0.9519319534301758, 'long_hair': 0.7271997332572937, 'looking_at_viewer': 0.7088761329650879, 'bangs': 0.5443224310874939, 'shirt': 0.41938677430152893, 'hair_between_eyes': 0.3968600630760193, 'closed_mouth': 0.5191428065299988, 'purple_eyes': 0.9304648041725159, 'purple_hair': 0.5948328971862793, 'braid': 0.7828936576843262, 'frills': 0.4529835283756256, 'speech_bubble': 0.45371121168136597, 'border': 0.42241671681404114, 'portrait': 0.7167367935180664, 'star_(sky)': 0.36440354585647583}\n",
      "[('1girl', 0.9867700934410095), ('solo', 0.9519319534301758), ('purple_eyes', 0.9304648041725159), ('braid', 0.7828936576843262), ('long_hair', 0.7271997332572937), ('portrait', 0.7167367935180664), ('looking_at_viewer', 0.7088761329650879), ('purple_hair', 0.5948328971862793), ('bangs', 0.5443224310874939), ('closed_mouth', 0.5191428065299988), ('speech_bubble', 0.45371121168136597), ('frills', 0.4529835283756256), ('border', 0.42241671681404114), ('shirt', 0.41938677430152893), ('hair_between_eyes', 0.3968600630760193), ('star_(sky)', 0.36440354585647583)]\n"
     ]
    }
   ],
   "source": [
    "img = Image.open(\"./sample.png\")\n",
    "\n",
    "thresh = 0.35\n",
    "\n",
    "results = tagger.interrogate(img)\n",
    "# results[0] 统计，results[1] 细节\n",
    "condition = lambda v: v>thresh\n",
    "filted = {k:v for k,v in results[1].items() if condition(v)}\n",
    "print(filted)\n",
    "res = sorted(filted.items(),key=lambda v:v[1],reverse=True)\n",
    "print(res)\n"
   ]
  },
  {
   "cell_type": "code",
   "execution_count": 6,
   "metadata": {},
   "outputs": [
    {
     "name": "stdout",
     "output_type": "stream",
     "text": [
      "None\n"
     ]
    }
   ],
   "source": [
    "from webapp import pack_file\n",
    "\n",
    "print(pack_file(\"./temp/test\",\"./t.zip\"))"
   ]
  }
 ],
 "metadata": {
  "kernelspec": {
   "display_name": "Python 3",
   "language": "python",
   "name": "python3"
  },
  "language_info": {
   "codemirror_mode": {
    "name": "ipython",
    "version": 3
   },
   "file_extension": ".py",
   "mimetype": "text/x-python",
   "name": "python",
   "nbconvert_exporter": "python",
   "pygments_lexer": "ipython3",
   "version": "3.10.11"
  }
 },
 "nbformat": 4,
 "nbformat_minor": 2
}
